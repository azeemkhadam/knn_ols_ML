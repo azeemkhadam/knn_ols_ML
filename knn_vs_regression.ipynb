{
 "cells": [
  {
   "cell_type": "markdown",
   "id": "666d7e63",
   "metadata": {},
   "source": [
    "# Comparison of Performance of *k*-Nearest Neighbors and Linear Regression\n",
    "### (for a binary classification problem)\n",
    "### [Azeem Khadam](azeem.khadam@uni-graz.at)\n",
    "\n",
    "### November 2021"
   ]
  },
  {
   "cell_type": "markdown",
   "id": "576185e9",
   "metadata": {},
   "source": [
    "**Note:** Please note that this article originated from an exercise of the semester course Mathematical Foundations of Machine Learning delivered by [Ass.-Prof. Martin Höller](https://imsc.uni-graz.at/hollerm/) at the University of Graz in Winter 2021/22.\n",
    "\n",
    "--------------------"
   ]
  },
  {
   "cell_type": "markdown",
   "id": "d5142326",
   "metadata": {},
   "source": [
    "In order to compare the (binary) classification performance of *k*-Nearest Neighbors' (shortly hereafter *k*-NN) algorithm and Linear Regression or Ordinary Least Squares (shortly hereafter OLS) model, we use the so-called *normalized* MNIST Data available at [https://web.stanford.edu/~hastie/ElemStatLearn/](https://web.stanford.edu/~hastie/ElemStatLearn/) under ZIP code.\n",
    "\n",
    "## About the data\n",
    "\n",
    "The data consists of handwritten digits, which were automatically scanned from envelopes by the U.S. Postal Service. The resulting images here in the normalized version are 16 x 16 grayscale images. Each line of the data consists of the digit\n",
    "with id (0-9) followed by the 256 grayscale values (more explanation comes later). There are 7291 training observations and 2007 test observations (the original dataset available at [MNIST](http://yann.lecun.com/exdb/mnist/) consists 60,000 training observations and 10,000 test observations).\n",
    "\n",
    "Now in order to upload the data, we first import some of the required packages and then upload the data by using `pandas` immediately afterwards."
   ]
  },
  {
   "cell_type": "code",
   "execution_count": 1,
   "id": "26b82311",
   "metadata": {},
   "outputs": [
    {
     "name": "stdout",
     "output_type": "stream",
     "text": [
      "<class 'pandas.core.frame.DataFrame'>\n",
      "RangeIndex: 7291 entries, 0 to 7290\n",
      "Data columns (total 1 columns):\n",
      " #   Column  Non-Null Count  Dtype \n",
      "---  ------  --------------  ----- \n",
      " 0   AAA     7291 non-null   object\n",
      "dtypes: object(1)\n",
      "memory usage: 57.1+ KB\n",
      "<class 'pandas.core.frame.DataFrame'>\n",
      "RangeIndex: 2007 entries, 0 to 2006\n",
      "Data columns (total 1 columns):\n",
      " #   Column  Non-Null Count  Dtype \n",
      "---  ------  --------------  ----- \n",
      " 0   BBB     2007 non-null   object\n",
      "dtypes: object(1)\n",
      "memory usage: 15.8+ KB\n"
     ]
    }
   ],
   "source": [
    "# import numpy, pandas and matplotlib.pyplot\n",
    "\n",
    "import numpy as np\n",
    "import pandas as pd\n",
    "import matplotlib.pyplot as plt\n",
    "\n",
    "# import the tarining and test datasets\n",
    "\n",
    "train = pd.read_csv(\"zip.train\", header = None, names = [\"AAA\"])\n",
    "test = pd.read_csv(\"zip.test\", header = None, names = [\"BBB\"])\n",
    "\n",
    "# information about the datasets\n",
    "train.info()\n",
    "test.info()"
   ]
  },
  {
   "cell_type": "markdown",
   "id": "5633e978",
   "metadata": {},
   "source": [
    "So the above information confirmed the number of rows in both the datasets as mentioned above. Both datasets have only single column whose data type is `object`. To understand more, let us look at the first 10 rows of the training data by using `head` method."
   ]
  },
  {
   "cell_type": "code",
   "execution_count": 2,
   "id": "bfabb2db",
   "metadata": {},
   "outputs": [
    {
     "data": {
      "text/html": [
       "<div>\n",
       "<style scoped>\n",
       "    .dataframe tbody tr th:only-of-type {\n",
       "        vertical-align: middle;\n",
       "    }\n",
       "\n",
       "    .dataframe tbody tr th {\n",
       "        vertical-align: top;\n",
       "    }\n",
       "\n",
       "    .dataframe thead th {\n",
       "        text-align: right;\n",
       "    }\n",
       "</style>\n",
       "<table border=\"1\" class=\"dataframe\">\n",
       "  <thead>\n",
       "    <tr style=\"text-align: right;\">\n",
       "      <th></th>\n",
       "      <th>AAA</th>\n",
       "    </tr>\n",
       "  </thead>\n",
       "  <tbody>\n",
       "    <tr>\n",
       "      <th>0</th>\n",
       "      <td>6.0000 -1.0000 -1.0000 -1.0000 -1.0000 -1.0000...</td>\n",
       "    </tr>\n",
       "    <tr>\n",
       "      <th>1</th>\n",
       "      <td>5.0000 -1.0000 -1.0000 -1.0000 -0.8130 -0.6710...</td>\n",
       "    </tr>\n",
       "    <tr>\n",
       "      <th>2</th>\n",
       "      <td>4.0000 -1.0000 -1.0000 -1.0000 -1.0000 -1.0000...</td>\n",
       "    </tr>\n",
       "    <tr>\n",
       "      <th>3</th>\n",
       "      <td>7.0000 -1.0000 -1.0000 -1.0000 -1.0000 -1.0000...</td>\n",
       "    </tr>\n",
       "    <tr>\n",
       "      <th>4</th>\n",
       "      <td>3.0000 -1.0000 -1.0000 -1.0000 -1.0000 -1.0000...</td>\n",
       "    </tr>\n",
       "    <tr>\n",
       "      <th>5</th>\n",
       "      <td>6.0000 -1.0000 -1.0000 -1.0000 -1.0000 -1.0000...</td>\n",
       "    </tr>\n",
       "    <tr>\n",
       "      <th>6</th>\n",
       "      <td>3.0000 -1.0000 -1.0000 -1.0000 -0.8300 0.4420 ...</td>\n",
       "    </tr>\n",
       "    <tr>\n",
       "      <th>7</th>\n",
       "      <td>1.0000 -1.0000 -1.0000 -1.0000 -1.0000 -1.0000...</td>\n",
       "    </tr>\n",
       "    <tr>\n",
       "      <th>8</th>\n",
       "      <td>0.0000 -1.0000 -1.0000 -1.0000 -1.0000 -1.0000...</td>\n",
       "    </tr>\n",
       "    <tr>\n",
       "      <th>9</th>\n",
       "      <td>1.0000 -1.0000 -1.0000 -1.0000 -1.0000 -1.0000...</td>\n",
       "    </tr>\n",
       "  </tbody>\n",
       "</table>\n",
       "</div>"
      ],
      "text/plain": [
       "                                                 AAA\n",
       "0  6.0000 -1.0000 -1.0000 -1.0000 -1.0000 -1.0000...\n",
       "1  5.0000 -1.0000 -1.0000 -1.0000 -0.8130 -0.6710...\n",
       "2  4.0000 -1.0000 -1.0000 -1.0000 -1.0000 -1.0000...\n",
       "3  7.0000 -1.0000 -1.0000 -1.0000 -1.0000 -1.0000...\n",
       "4  3.0000 -1.0000 -1.0000 -1.0000 -1.0000 -1.0000...\n",
       "5  6.0000 -1.0000 -1.0000 -1.0000 -1.0000 -1.0000...\n",
       "6  3.0000 -1.0000 -1.0000 -1.0000 -0.8300 0.4420 ...\n",
       "7  1.0000 -1.0000 -1.0000 -1.0000 -1.0000 -1.0000...\n",
       "8  0.0000 -1.0000 -1.0000 -1.0000 -1.0000 -1.0000...\n",
       "9  1.0000 -1.0000 -1.0000 -1.0000 -1.0000 -1.0000..."
      ]
     },
     "execution_count": 2,
     "metadata": {},
     "output_type": "execute_result"
    }
   ],
   "source": [
    "train.head(10)"
   ]
  },
  {
   "cell_type": "markdown",
   "id": "239e3e20",
   "metadata": {},
   "source": [
    "Although our data has only one column, but in reality it has 257 column. The \"first\" column corresponds to the digits we want to identify, whereas the next 256 columns correspond to features of the digit. We need to convert out data into a `numpy` array which really has 257 columns.\n",
    "\n",
    "## Data conversion"
   ]
  },
  {
   "cell_type": "code",
   "execution_count": 3,
   "id": "fc3dd4bf",
   "metadata": {},
   "outputs": [
    {
     "name": "stdout",
     "output_type": "stream",
     "text": [
      "Shape of the traning array: (7291, 258)\n",
      "Shape of the testing array: (2007, 257)\n"
     ]
    }
   ],
   "source": [
    "# split the rows by using delimiter \" \"\n",
    "\n",
    "train = train[\"AAA\"].str.split(\" \", expand = True)\n",
    "test = test[\"BBB\"].str.split(\" \", expand = True)\n",
    "\n",
    "# convert to Numpy arrays\n",
    "\n",
    "train_np = train.to_numpy()                                                     \n",
    "test_np = test.to_numpy()\n",
    "\n",
    "# shape of the array\n",
    "\n",
    "print(\"Shape of the traning array: {}\".format(train_np.shape))\n",
    "print(\"Shape of the testing array: {}\".format(test_np.shape))"
   ]
  },
  {
   "cell_type": "markdown",
   "id": "65a34360",
   "metadata": {},
   "source": [
    "We see here that the number of columns in the training dataset are 258, although they should be 257. The reason behind this is that the last column of the training data is empty:"
   ]
  },
  {
   "cell_type": "code",
   "execution_count": 4,
   "id": "d9519719",
   "metadata": {},
   "outputs": [
    {
     "data": {
      "text/plain": [
       "array(['', '', '', ..., '', '', ''], dtype=object)"
      ]
     },
     "execution_count": 4,
     "metadata": {},
     "output_type": "execute_result"
    }
   ],
   "source": [
    "# last column of the training data\n",
    "\n",
    "train_np[:, 257]"
   ]
  },
  {
   "cell_type": "markdown",
   "id": "2812aa78",
   "metadata": {},
   "source": [
    "So we delete the last column and then convert it into a floating data type."
   ]
  },
  {
   "cell_type": "code",
   "execution_count": 5,
   "id": "51914d60",
   "metadata": {},
   "outputs": [
    {
     "name": "stdout",
     "output_type": "stream",
     "text": [
      "Shape of the new training array: (7291, 257)\n"
     ]
    }
   ],
   "source": [
    "# delete the last column of the training data\n",
    "\n",
    "train_np = np.delete(train_np, 257, axis = 1)\n",
    "\n",
    "# convert the datatype\n",
    "\n",
    "train_np = train_np.astype(float)  \n",
    "test_np = test_np.astype(float)  \n",
    "\n",
    "# shapf of the new training array\n",
    "\n",
    "print(\"Shape of the new training array: {}\".format(train_np.shape))"
   ]
  },
  {
   "cell_type": "markdown",
   "id": "12bbbe83",
   "metadata": {},
   "source": [
    "Let us now look at the first 2 rows of the traning data."
   ]
  },
  {
   "cell_type": "code",
   "execution_count": 6,
   "id": "9e877fa1",
   "metadata": {},
   "outputs": [
    {
     "data": {
      "text/plain": [
       "array([[ 6.   , -1.   , -1.   , -1.   , -1.   , -1.   , -1.   , -1.   ,\n",
       "        -0.631,  0.862, -0.167, -1.   , -1.   , -1.   , -1.   , -1.   ,\n",
       "        -1.   , -1.   , -1.   , -1.   , -1.   , -1.   , -1.   , -0.992,\n",
       "         0.297,  1.   ,  0.307, -1.   , -1.   , -1.   , -1.   , -1.   ,\n",
       "        -1.   , -1.   , -1.   , -1.   , -1.   , -1.   , -1.   , -0.41 ,\n",
       "         1.   ,  0.986, -0.565, -1.   , -1.   , -1.   , -1.   , -1.   ,\n",
       "        -1.   , -1.   , -1.   , -1.   , -1.   , -1.   , -0.683,  0.825,\n",
       "         1.   ,  0.562, -1.   , -1.   , -1.   , -1.   , -1.   , -1.   ,\n",
       "        -1.   , -1.   , -1.   , -1.   , -1.   , -0.938,  0.54 ,  1.   ,\n",
       "         0.778, -0.715, -1.   , -1.   , -1.   , -1.   , -1.   , -1.   ,\n",
       "        -1.   , -1.   , -1.   , -1.   , -1.   ,  0.1  ,  1.   ,  0.922,\n",
       "        -0.439, -1.   , -1.   , -1.   , -1.   , -1.   , -1.   , -1.   ,\n",
       "        -1.   , -1.   , -1.   , -1.   , -0.257,  0.95 ,  1.   , -0.162,\n",
       "        -1.   , -1.   , -1.   , -0.987, -0.714, -0.832, -1.   , -1.   ,\n",
       "        -1.   , -1.   , -1.   , -0.797,  0.909,  1.   ,  0.3  , -0.961,\n",
       "        -1.   , -1.   , -0.55 ,  0.485,  0.996,  0.867,  0.092, -1.   ,\n",
       "        -1.   , -1.   , -1.   ,  0.278,  1.   ,  0.877, -0.824, -1.   ,\n",
       "        -0.905,  0.145,  0.977,  1.   ,  1.   ,  1.   ,  0.99 , -0.745,\n",
       "        -1.   , -1.   , -0.95 ,  0.847,  1.   ,  0.327, -1.   , -1.   ,\n",
       "         0.355,  1.   ,  0.655, -0.109, -0.185,  1.   ,  0.988, -0.723,\n",
       "        -1.   , -1.   , -0.63 ,  1.   ,  1.   ,  0.068, -0.925,  0.113,\n",
       "         0.96 ,  0.308, -0.884, -1.   , -0.075,  1.   ,  0.641, -0.995,\n",
       "        -1.   , -1.   , -0.677,  1.   ,  1.   ,  0.753,  0.341,  1.   ,\n",
       "         0.707, -0.942, -1.   , -1.   ,  0.545,  1.   ,  0.027, -1.   ,\n",
       "        -1.   , -1.   , -0.903,  0.792,  1.   ,  1.   ,  1.   ,  1.   ,\n",
       "         0.536,  0.184,  0.812,  0.837,  0.978,  0.864, -0.63 , -1.   ,\n",
       "        -1.   , -1.   , -1.   , -0.452,  0.828,  1.   ,  1.   ,  1.   ,\n",
       "         1.   ,  1.   ,  1.   ,  1.   ,  1.   ,  0.135, -1.   , -1.   ,\n",
       "        -1.   , -1.   , -1.   , -1.   , -0.483,  0.813,  1.   ,  1.   ,\n",
       "         1.   ,  1.   ,  1.   ,  1.   ,  0.219, -0.943, -1.   , -1.   ,\n",
       "        -1.   , -1.   , -1.   , -1.   , -1.   , -0.974, -0.429,  0.304,\n",
       "         0.823,  1.   ,  0.482, -0.474, -0.991, -1.   , -1.   , -1.   ,\n",
       "        -1.   ],\n",
       "       [ 5.   , -1.   , -1.   , -1.   , -0.813, -0.671, -0.809, -0.887,\n",
       "        -0.671, -0.853, -1.   , -1.   , -0.774, -0.18 ,  0.052, -0.241,\n",
       "        -1.   , -1.   , -1.   , -1.   ,  0.392,  1.   ,  0.857,  0.727,\n",
       "         1.   ,  0.805,  0.613,  0.613,  0.86 ,  1.   ,  1.   ,  0.396,\n",
       "        -1.   , -1.   , -1.   , -1.   , -0.548,  1.   ,  1.   ,  1.   ,\n",
       "         1.   ,  1.   ,  1.   ,  1.   ,  1.   ,  1.   ,  1.   ,  0.875,\n",
       "        -0.957, -1.   , -1.   , -1.   , -0.786,  0.961,  1.   ,  1.   ,\n",
       "         1.   ,  0.727,  0.403,  0.403,  0.171, -0.314, -0.314, -0.94 ,\n",
       "        -1.   , -1.   , -1.   , -1.   , -0.298,  1.   ,  1.   ,  1.   ,\n",
       "         0.44 ,  0.056, -0.755, -1.   , -1.   , -1.   , -1.   , -1.   ,\n",
       "        -1.   , -1.   , -1.   , -1.   ,  0.366,  1.   ,  1.   ,  1.   ,\n",
       "         1.   ,  1.   ,  0.889, -0.081, -0.92 , -1.   , -1.   , -1.   ,\n",
       "        -1.   , -1.   , -1.   , -1.   , -0.396,  0.886,  0.974,  0.851,\n",
       "         0.851,  0.95 ,  1.   ,  1.   ,  0.539, -0.754, -1.   , -1.   ,\n",
       "        -1.   , -1.   , -1.   , -1.   , -1.   , -0.886, -0.505, -1.   ,\n",
       "        -1.   , -0.649,  0.405,  1.   ,  1.   ,  0.653, -0.838, -1.   ,\n",
       "        -1.   , -1.   , -1.   , -1.   , -1.   , -1.   , -1.   , -1.   ,\n",
       "        -1.   , -1.   , -1.   , -0.55 ,  0.993,  1.   ,  0.618, -0.869,\n",
       "        -1.   , -0.96 , -0.512,  0.134, -0.343, -0.796, -1.   , -1.   ,\n",
       "        -1.   , -1.   , -1.   , -1.   , -0.432,  0.994,  1.   ,  0.223,\n",
       "        -1.   ,  0.426,  1.   ,  1.   ,  1.   ,  0.214, -1.   , -1.   ,\n",
       "        -1.   , -1.   , -1.   , -1.   , -1.   ,  0.292,  1.   ,  0.967,\n",
       "        -0.88 ,  0.449,  1.   ,  0.896, -0.094, -0.75 , -1.   , -1.   ,\n",
       "        -1.   , -1.   , -1.   , -1.   , -1.   , -0.627,  1.   ,  1.   ,\n",
       "         0.198, -0.105,  1.   ,  1.   ,  1.   ,  0.639, -0.168, -0.314,\n",
       "        -0.446, -1.   , -1.   , -0.999, -0.337,  0.147,  0.996,  1.   ,\n",
       "         0.667, -0.808,  0.065,  0.993,  1.   ,  1.   ,  1.   ,  1.   ,\n",
       "         0.996,  0.97 ,  0.97 ,  0.97 ,  0.998,  1.   ,  1.   ,  1.   ,\n",
       "         0.109, -1.   , -1.   , -0.83 , -0.242,  0.35 ,  0.8  ,  1.   ,\n",
       "         1.   ,  1.   ,  1.   ,  1.   ,  1.   ,  1.   ,  1.   ,  0.616,\n",
       "        -0.93 , -1.   , -1.   , -1.   , -1.   , -1.   , -0.858, -0.671,\n",
       "        -0.671, -0.033,  0.761,  0.762,  0.126, -0.095, -0.671, -0.828,\n",
       "        -1.   ]])"
      ]
     },
     "execution_count": 6,
     "metadata": {},
     "output_type": "execute_result"
    }
   ],
   "source": [
    "# first two rows of the training data\n",
    "train_np[:2]"
   ]
  },
  {
   "cell_type": "markdown",
   "id": "1a54a6c5",
   "metadata": {},
   "source": [
    "## Binary classification\n",
    "\n",
    "In the next step we extract two classes of digits (2s and 3s here) among 0-9 which we want to for study binary classification problem."
   ]
  },
  {
   "cell_type": "code",
   "execution_count": 7,
   "id": "aaf69a16",
   "metadata": {},
   "outputs": [
    {
     "data": {
      "text/plain": [
       "array([[ 3.   , -1.   , -1.   , -1.   , -0.593,  0.7  ,  1.   ,  1.   ,\n",
       "         1.   ,  1.   ,  0.853,  0.075, -0.925, -1.   , -1.   , -1.   ,\n",
       "        -1.   , -1.   , -1.   , -0.553,  0.998,  1.   ,  1.   ,  1.   ,\n",
       "         1.   ,  1.   ,  1.   ,  1.   ,  0.961, -0.076, -0.999, -1.   ,\n",
       "        -1.   , -1.   , -1.   ,  0.228,  1.   ,  0.849, -0.15 , -0.705,\n",
       "        -1.   , -0.85 , -0.333, -0.072,  0.929,  1.   , -0.451, -1.   ,\n",
       "        -1.   , -1.   , -1.   , -0.586,  0.777, -0.524, -1.   , -1.   ,\n",
       "        -1.   , -1.   , -1.   , -1.   ,  0.344,  1.   ,  0.544, -0.999,\n",
       "        -1.   , -1.   , -1.   , -1.   , -1.   , -1.   , -1.   , -1.   ,\n",
       "        -1.   , -1.   , -1.   , -0.803,  0.93 ,  1.   ,  0.65 , -0.999,\n",
       "        -1.   , -1.   , -1.   , -1.   , -1.   , -1.   , -1.   , -1.   ,\n",
       "        -1.   , -1.   , -0.579,  0.821,  1.   ,  1.   , -0.131, -1.   ,\n",
       "        -1.   , -1.   , -1.   , -1.   , -1.   , -1.   , -1.   , -1.   ,\n",
       "        -0.621,  0.156,  0.934,  1.   ,  1.   ,  0.575, -0.933, -1.   ,\n",
       "        -1.   , -1.   , -1.   , -1.   , -1.   , -0.952, -0.176,  0.602,\n",
       "         1.   ,  1.   ,  1.   ,  0.952, -0.093, -1.   , -1.   , -1.   ,\n",
       "        -1.   , -1.   , -1.   , -1.   , -1.   , -0.41 ,  1.   ,  1.   ,\n",
       "         1.   ,  1.   ,  1.   ,  0.792, -0.715, -1.   , -1.   , -1.   ,\n",
       "        -1.   , -1.   , -1.   , -1.   , -1.   , -1.   , -0.345,  0.333,\n",
       "        -0.05 , -0.333, -0.172,  0.606,  0.95 , -0.101, -1.   , -1.   ,\n",
       "        -1.   , -1.   , -1.   , -1.   , -1.   , -1.   , -1.   , -1.   ,\n",
       "        -1.   , -1.   , -1.   , -0.838,  0.548,  1.   , -0.266, -1.   ,\n",
       "        -1.   , -1.   , -1.   , -1.   , -1.   , -1.   , -1.   , -1.   ,\n",
       "        -1.   , -1.   , -1.   , -1.   , -0.285,  1.   ,  0.729, -1.   ,\n",
       "        -1.   , -1.   , -1.   , -0.611, -0.944, -1.   , -1.   , -1.   ,\n",
       "        -1.   , -1.   , -1.   , -0.556,  0.943,  1.   ,  0.779, -0.943,\n",
       "        -1.   , -1.   , -0.943,  0.779,  0.555, -0.333, -0.333, -0.333,\n",
       "        -0.166,  0.389,  1.   ,  1.   ,  1.   ,  1.   ,  0.497, -1.   ,\n",
       "        -1.   , -1.   , -1.   ,  0.507,  1.   ,  1.   ,  1.   ,  1.   ,\n",
       "         1.   ,  1.   ,  1.   ,  1.   ,  0.83 ,  0.053, -0.946, -1.   ,\n",
       "        -1.   , -1.   , -1.   , -0.941,  0.059,  0.615,  1.   ,  1.   ,\n",
       "         0.717,  0.333,  0.162, -0.393, -1.   , -1.   , -1.   , -1.   ,\n",
       "        -1.   ],\n",
       "       [ 2.   , -0.996,  0.572,  0.396,  0.063, -0.506, -0.847, -1.   ,\n",
       "        -1.   , -1.   , -1.   , -1.   , -1.   , -1.   , -1.   , -1.   ,\n",
       "        -1.   , -1.   , -0.391,  0.974,  1.   ,  1.   ,  0.954,  0.356,\n",
       "        -0.47 , -1.   , -1.   , -1.   , -1.   , -1.   , -1.   , -1.   ,\n",
       "        -1.   , -1.   , -1.   , -0.716, -0.17 ,  0.307,  0.851,  1.   ,\n",
       "         0.955, -0.228, -1.   , -1.   , -1.   , -1.   , -1.   , -1.   ,\n",
       "        -1.   , -1.   , -1.   , -1.   , -1.   , -1.   , -0.975, -0.422,\n",
       "         0.581,  0.996, -0.129, -0.993, -1.   , -1.   , -1.   , -1.   ,\n",
       "        -1.   , -1.   , -1.   , -1.   , -1.   , -1.   , -1.   , -1.   ,\n",
       "        -0.867,  0.494,  1.   , -0.366, -1.   , -1.   , -1.   , -1.   ,\n",
       "        -1.   , -1.   , -1.   , -1.   , -1.   , -1.   , -1.   , -1.   ,\n",
       "        -1.   , -0.826,  0.967,  0.631, -0.99 , -1.   , -1.   , -1.   ,\n",
       "        -1.   , -1.   , -1.   , -1.   , -1.   , -1.   , -1.   , -1.   ,\n",
       "        -1.   , -0.938,  0.915,  1.   , -0.386, -1.   , -1.   , -1.   ,\n",
       "        -1.   , -1.   , -1.   , -1.   , -1.   , -1.   , -1.   , -1.   ,\n",
       "        -1.   , -0.999,  0.629,  1.   , -0.039, -1.   , -1.   , -1.   ,\n",
       "        -1.   , -1.   , -1.   , -1.   , -1.   , -1.   , -1.   , -1.   ,\n",
       "        -1.   , -1.   ,  0.283,  1.   , -0.022, -1.   , -1.   , -1.   ,\n",
       "        -1.   , -1.   , -1.   , -1.   , -0.956, -0.45 ,  0.274,  0.283,\n",
       "         0.283,  0.232,  0.399,  1.   ,  0.051, -1.   , -1.   , -1.   ,\n",
       "        -1.   , -1.   , -1.   , -0.582,  0.716,  1.   ,  1.   ,  1.   ,\n",
       "         1.   ,  1.   ,  1.   ,  1.   ,  0.283, -0.987, -1.   , -1.   ,\n",
       "        -1.   , -1.   , -0.23 ,  0.842,  1.   ,  1.   ,  0.675, -0.022,\n",
       "        -0.068,  1.   ,  1.   ,  1.   ,  1.   ,  0.417, -0.929, -1.   ,\n",
       "        -1.   , -1.   ,  0.428,  1.   ,  0.764, -0.277, -0.916, -0.101,\n",
       "         0.768,  1.   ,  0.975, -0.224, -0.145,  0.923,  0.642, -0.256,\n",
       "        -1.   , -1.   ,  0.719,  1.   , -0.163,  0.039,  0.824,  1.   ,\n",
       "         1.   ,  0.94 ,  0.03 , -1.   , -1.   , -0.749, -0.016,  0.04 ,\n",
       "        -0.996, -1.   ,  0.554,  1.   ,  1.   ,  1.   ,  1.   ,  0.791,\n",
       "         0.325, -0.673, -1.   , -1.   , -1.   , -1.   , -1.   , -1.   ,\n",
       "        -1.   , -1.   , -0.605,  0.718,  0.972,  0.398,  0.165, -0.668,\n",
       "        -1.   , -1.   , -1.   , -1.   , -1.   , -1.   , -1.   , -1.   ,\n",
       "        -1.   ]])"
      ]
     },
     "execution_count": 7,
     "metadata": {},
     "output_type": "execute_result"
    }
   ],
   "source": [
    "# Extraction of digits 2s and 3s\n",
    "\n",
    "train_np=train_np[(train_np[:, 0] == 2) | (train_np[:, 0] == 3)]\n",
    "test_np=test_np[(test_np[:, 0] == 2) | (test_np[:, 0] == 3)]\n",
    "\n",
    "# first two rows of testing data\n",
    "\n",
    "test_np[ : 2]"
   ]
  },
  {
   "cell_type": "markdown",
   "id": "1bc049a1",
   "metadata": {},
   "source": [
    "Now we separate the first column with all others. That is, we separate the features and labels."
   ]
  },
  {
   "cell_type": "code",
   "execution_count": 8,
   "id": "ff3ee7da",
   "metadata": {},
   "outputs": [
    {
     "name": "stdout",
     "output_type": "stream",
     "text": [
      "Shape of the traning features: (1389, 256)\n",
      "Shape of the testing features: (364, 256)\n",
      "Shape of the traning labels: (1389,)\n",
      "Shape of the testing labels: (364,)\n"
     ]
    },
    {
     "data": {
      "text/plain": [
       "array([3., 3., 3., 3., 3., 2., 3., 3., 2., 2., 2., 2., 2., 2., 3.])"
      ]
     },
     "execution_count": 8,
     "metadata": {},
     "output_type": "execute_result"
    }
   ],
   "source": [
    "# separation of labels from the features\n",
    "\n",
    "feature_train = train_np[:, 1:]\n",
    "feature_test = test_np[:, 1:]\n",
    "label_train = train_np[:, 0]\n",
    "label_test = test_np[:, 0]\n",
    "\n",
    "# shape of arrays\n",
    "\n",
    "print(\"Shape of the traning features: {}\".format(feature_train.shape))\n",
    "print(\"Shape of the testing features: {}\".format(feature_test.shape))\n",
    "print(\"Shape of the traning labels: {}\".format(label_train.shape))\n",
    "print(\"Shape of the testing labels: {}\".format(label_test.shape))\n",
    "\n",
    "# first 15 entries of training labels which is a vector\n",
    "\n",
    "label_train[: 15]"
   ]
  },
  {
   "cell_type": "markdown",
   "id": "7cccbceb",
   "metadata": {},
   "source": [
    "We can also draw a scatter plot of the first two training features in order to see the distribution of both the digits. But this is not very useful as you can see here (the data has 256 features!)."
   ]
  },
  {
   "cell_type": "code",
   "execution_count": 9,
   "id": "3e1d5417",
   "metadata": {},
   "outputs": [
    {
     "data": {
      "text/plain": [
       "Text(0, 0.5, 'Second feature')"
      ]
     },
     "execution_count": 9,
     "metadata": {},
     "output_type": "execute_result"
    },
    {
     "data": {
      "image/png": "[encoded data removed]",
      "text/plain": [
       "<Figure size 432x288 with 1 Axes>"
      ]
     },
     "metadata": {},
     "output_type": "display_data"
    }
   ],
   "source": [
    "# import mglearn first\n",
    "\n",
    "import mglearn\n",
    "\n",
    "# draw the scatter plot of first two training features\n",
    "\n",
    "mglearn.discrete_scatter(feature_train[:, 0], feature_train[:, 1], label_train)\n",
    "plt.legend([\"2s\", \"3s\"], loc=4)\n",
    "plt.xlabel(\"First feature\")\n",
    "plt.ylabel(\"Second feature\")"
   ]
  },
  {
   "cell_type": "markdown",
   "id": "32e383d2",
   "metadata": {},
   "source": [
    "### Builing the model *k*_NN\n",
    "\n",
    "The *k*-NN classification algorithm is implemented in the `KNeighborsClassifier` class in the `neighbors` module of `scikit-learn`. We built it for *k = 3* for which we bring its parameter `n_neighbors`."
   ]
  },
  {
   "cell_type": "code",
   "execution_count": 10,
   "id": "704ddbc5",
   "metadata": {},
   "outputs": [
    {
     "name": "stdout",
     "output_type": "stream",
     "text": [
      "Training data score: 0.99\n",
      "Testing data score: 0.97\n"
     ]
    }
   ],
   "source": [
    "# implementation of k-NN\n",
    "\n",
    "from sklearn.neighbors import KNeighborsClassifier\n",
    "knn = KNeighborsClassifier(n_neighbors = 3)\n",
    "\n",
    "# fitting the model\n",
    "\n",
    "knn.fit(feature_train, label_train)\n",
    "\n",
    "# printing the scores for training and testing data\n",
    "\n",
    "print(\"Training data score: {:.2f}\".format(knn.score(feature_train, label_train)))\n",
    "print(\"Testing data score: {:.2f}\".format(knn.score(feature_test, label_test)))"
   ]
  },
  {
   "cell_type": "markdown",
   "id": "36192210",
   "metadata": {},
   "source": [
    "Next we draw the line graph of the training and testing scores for different *k*. The graph tells us in fact that for upto about 150 *k*-neighbors the training and testing efficiency of *k*-NN remain above 90%. In any case the score for training data remains higher than that of testing data."
   ]
  },
  {
   "cell_type": "code",
   "execution_count": 11,
   "id": "2e5b229d",
   "metadata": {},
   "outputs": [
    {
     "data": {
      "image/png": "[encoded data removed]",
      "text/plain": [
       "<Figure size 1008x720 with 1 Axes>"
      ]
     },
     "metadata": {},
     "output_type": "display_data"
    }
   ],
   "source": [
    "# loop for 1500 neighbors\n",
    "\n",
    "neighbors = np.arange(1,500)\n",
    "train_score = np.empty(len(neighbors))\n",
    "test_score = np.empty(len(neighbors))\n",
    "\n",
    "t = 0\n",
    "for k in neighbors:\n",
    "    knn = KNeighborsClassifier(n_neighbors = k)\n",
    "    knn.fit(feature_train, label_train)\n",
    "    train_score[t] = knn.score(feature_train, label_train)\n",
    "    test_score[t] = knn.score(feature_test, label_test)\n",
    "    t = t+1\n",
    "    \n",
    "# line graph\n",
    "\n",
    "plt.rcParams[\"figure.figsize\"] = (14,10)\n",
    "plt.plot(neighbors, train_score, color = 'b', label = 'Training Scores for k-NN')\n",
    "plt.plot(neighbors, test_score, color='r', label = 'Testing Scores for k-NN')\n",
    "plt.legend()\n",
    "plt.show()"
   ]
  },
  {
   "cell_type": "markdown",
   "id": "7e134e4b",
   "metadata": {},
   "source": [
    "### Builing the lienar regression model\n",
    "\n",
    "The OLS algorithm is implemented in the `LinearRegression` class in the `linear_model` module of `scikit-learn`."
   ]
  },
  {
   "cell_type": "code",
   "execution_count": 12,
   "id": "2d893e81",
   "metadata": {},
   "outputs": [
    {
     "name": "stdout",
     "output_type": "stream",
     "text": [
      "Training data score: 0.90\n",
      "Testing data score: 0.39\n"
     ]
    }
   ],
   "source": [
    "# implementation of OLS\n",
    "\n",
    "from sklearn.linear_model import LinearRegression\n",
    "ols = LinearRegression()\n",
    "\n",
    "# fitting the model\n",
    "\n",
    "ols.fit(feature_train, label_train)\n",
    "\n",
    "# printing the scores for training and testing data\n",
    "\n",
    "print(\"Training data score: {:.2f}\".format(ols.score(feature_train, label_train)))\n",
    "print(\"Testing data score: {:.2f}\".format(ols.score(feature_test, label_test)))"
   ]
  },
  {
   "cell_type": "markdown",
   "id": "8e357456",
   "metadata": {},
   "source": [
    "We can see that the OLS algorithm works not only far worse than that of *k*-NN, but it also is overfitting. That is, it works fine on the training data, but very bad on the testing dataset.\n",
    "\n",
    "## Conclusion:\n",
    "\n",
    "It is always a good idea to not use OLS for a classification problem.\n",
    "\n",
    "**Final Note:** For more reading on *k*-Nearest Neighbors Algorithm and Linear Regression Algorithm, we recommend the beautiful book of A. C. Müller and S. Guido: [\n",
    "Introduction to Machine Learning with Python: A Guide for Data](https://www.oreilly.com/library/view/introduction-to-machine/9781449369880/).\n",
    "\n",
    "See you soon!"
   ]
  }
 ],
 "metadata": {
  "kernelspec": {
   "display_name": "Python 3 (Spyder)",
   "language": "python3",
   "name": "python3"
  },
  "language_info": {
   "codemirror_mode": {
    "name": "ipython",
    "version": 3
   },
   "file_extension": ".py",
   "mimetype": "text/x-python",
   "name": "python",
   "nbconvert_exporter": "python",
   "pygments_lexer": "ipython3",
   "version": "3.8.8"
  }
 },
 "nbformat": 4,
 "nbformat_minor": 5
}
